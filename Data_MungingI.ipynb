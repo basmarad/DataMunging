{
 "cells": [
  {
   "cell_type": "markdown",
   "metadata": {},
   "source": [
    "## Exercices on Data Munging provided by The Data Incubator part of DS module by WorldQuant University"
   ]
  },
  {
   "cell_type": "code",
   "execution_count": 1,
   "metadata": {},
   "outputs": [],
   "source": [
    "import numpy as np\n",
    "import matplotlib\n",
    "import matplotlib.pyplot as plt\n",
    "import pandas as pd\n",
    "import seaborn as sns\n",
    "import matplotlib as mpl\n",
    "import statsmodels.api as sm\n",
    "import gzip\n",
    "import simplejson as json\n",
    "import glob\n",
    "import os"
   ]
  },
  {
   "cell_type": "code",
   "execution_count": null,
   "metadata": {},
   "outputs": [],
   "source": [
    "# Downloading the data from online\n",
    "#################################\n",
    "os.system('/usr/local/bin/wget \"http://dataincubator-wqu.s3.amazonaws.com/dwdata/201606scripts_sample.csv.gz\" -nc -P ./dw-data/')# had to install wget first \n",
    "os.system('/usr/local/bin/wget \"http://dataincubator-wqu.s3.amazonaws.com/dwdata/201701scripts_sample.csv.gz\" -nc -P ./dw-data/ ')   # Big Big file.. Megabytes\n",
    "os.system('/usr/local/bin/wget \"http://dataincubator-wqu.s3.amazonaws.com/dwdata/practices.csv.gz\" -nc -P ./dw-data/ ')   \n",
    "os.system('/usr/local/bin/wget \"http://dataincubator-wqu.s3.amazonaws.com/dwdata/chem.csv.gz\" -nc -P ./dw-data/')"
   ]
  },
  {
   "cell_type": "code",
   "execution_count": 2,
   "metadata": {},
   "outputs": [],
   "source": [
    "#Loading Data\n",
    "#############\n",
    "os.chdir('/Users/bmr225/Documents/WorldQuantUniversity')\n",
    "\n",
    "with gzip.open('./dw-data/201701scripts_sample.csv.gz', 'rb') as f:\n",
    "    scripts =  pd.read_csv(f)\n",
    "    scripts.head()\n",
    "    \n",
    "with gzip.open('./dw-data/practices.csv.gz', 'rb') as f:\n",
    "    practices =  pd.read_csv(f)\n",
    "col_names=[ 'code', 'name', 'addr_1', 'addr_2', 'borough', 'village', 'post_code']\n",
    "practices.columns = col_names\n",
    "    \n",
    "with gzip.open('./dw-data/201606scripts_sample.csv.gz', 'rb') as f:\n",
    "   scripts16 = pd.read_csv(f)\n",
    "\n",
    "\n",
    "with gzip.open('./dw-data/chem.csv.gz', 'rb') as f:\n",
    "    chem = pd.read_csv(f)"
   ]
  },
  {
   "cell_type": "markdown",
   "metadata": {},
   "source": [
    "### Data Source"
   ]
  },
  {
   "cell_type": "markdown",
   "metadata": {},
   "source": [
    "This data set comes from Britain's National Health Service. The `scripts` variable is a list of prescriptions issued by NHS doctors. Each prescription is represented by a variety of data fields: `'practice'`, `'bnf_code'`, `'bnf_name'`, `'quantity'`, `'items'`, `'nic'`, and `'act_cost'`. "
   ]
  },
  {
   "cell_type": "code",
   "execution_count": 3,
   "metadata": {},
   "outputs": [
    {
     "data": {
      "text/html": [
       "<div>\n",
       "<style scoped>\n",
       "    .dataframe tbody tr th:only-of-type {\n",
       "        vertical-align: middle;\n",
       "    }\n",
       "\n",
       "    .dataframe tbody tr th {\n",
       "        vertical-align: top;\n",
       "    }\n",
       "\n",
       "    .dataframe thead th {\n",
       "        text-align: right;\n",
       "    }\n",
       "</style>\n",
       "<table border=\"1\" class=\"dataframe\">\n",
       "  <thead>\n",
       "    <tr style=\"text-align: right;\">\n",
       "      <th></th>\n",
       "      <th>practice</th>\n",
       "      <th>bnf_code</th>\n",
       "      <th>bnf_name</th>\n",
       "      <th>items</th>\n",
       "      <th>nic</th>\n",
       "      <th>act_cost</th>\n",
       "      <th>quantity</th>\n",
       "    </tr>\n",
       "  </thead>\n",
       "  <tbody>\n",
       "    <tr>\n",
       "      <th>0</th>\n",
       "      <td>N85639</td>\n",
       "      <td>0106020C0</td>\n",
       "      <td>Bisacodyl_Tab E/C 5mg</td>\n",
       "      <td>1</td>\n",
       "      <td>0.39</td>\n",
       "      <td>0.47</td>\n",
       "      <td>12</td>\n",
       "    </tr>\n",
       "    <tr>\n",
       "      <th>1</th>\n",
       "      <td>N85639</td>\n",
       "      <td>0106040M0</td>\n",
       "      <td>Movicol Plain_Paed Pdr Sach 6.9g</td>\n",
       "      <td>1</td>\n",
       "      <td>4.38</td>\n",
       "      <td>4.07</td>\n",
       "      <td>30</td>\n",
       "    </tr>\n",
       "    <tr>\n",
       "      <th>2</th>\n",
       "      <td>N85639</td>\n",
       "      <td>0301011R0</td>\n",
       "      <td>Salbutamol_Inha 100mcg (200 D) CFF</td>\n",
       "      <td>1</td>\n",
       "      <td>1.50</td>\n",
       "      <td>1.40</td>\n",
       "      <td>1</td>\n",
       "    </tr>\n",
       "    <tr>\n",
       "      <th>3</th>\n",
       "      <td>N85639</td>\n",
       "      <td>0304010G0</td>\n",
       "      <td>Chlorphenamine Mal_Oral Soln 2mg/5ml</td>\n",
       "      <td>1</td>\n",
       "      <td>2.62</td>\n",
       "      <td>2.44</td>\n",
       "      <td>150</td>\n",
       "    </tr>\n",
       "    <tr>\n",
       "      <th>4</th>\n",
       "      <td>N85639</td>\n",
       "      <td>0401020K0</td>\n",
       "      <td>Diazepam_Tab 2mg</td>\n",
       "      <td>1</td>\n",
       "      <td>0.16</td>\n",
       "      <td>0.26</td>\n",
       "      <td>6</td>\n",
       "    </tr>\n",
       "  </tbody>\n",
       "</table>\n",
       "</div>"
      ],
      "text/plain": [
       "  practice   bnf_code                              bnf_name  items   nic  \\\n",
       "0   N85639  0106020C0                 Bisacodyl_Tab E/C 5mg      1  0.39   \n",
       "1   N85639  0106040M0      Movicol Plain_Paed Pdr Sach 6.9g      1  4.38   \n",
       "2   N85639  0301011R0    Salbutamol_Inha 100mcg (200 D) CFF      1  1.50   \n",
       "3   N85639  0304010G0  Chlorphenamine Mal_Oral Soln 2mg/5ml      1  2.62   \n",
       "4   N85639  0401020K0                      Diazepam_Tab 2mg      1  0.16   \n",
       "\n",
       "   act_cost  quantity  \n",
       "0      0.47        12  \n",
       "1      4.07        30  \n",
       "2      1.40         1  \n",
       "3      2.44       150  \n",
       "4      0.26         6  "
      ]
     },
     "execution_count": 3,
     "metadata": {},
     "output_type": "execute_result"
    }
   ],
   "source": [
    "scripts.head()"
   ]
  },
  {
   "cell_type": "markdown",
   "metadata": {},
   "source": [
    "### Task I: Summary Statistics of multiple columns"
   ]
  },
  {
   "cell_type": "code",
   "execution_count": 16,
   "metadata": {},
   "outputs": [],
   "source": [
    "summary_stats = []\n",
    "measures = ['items','quantity', 'nic','act_cost']\n",
    "ind = list(range(7))\n",
    "for measure in measures:\n",
    "    descrip_stats = (measure,tuple([scripts[measure].describe()[i] for i in ind]))\n",
    "    summary_stats.append(descrip_stats)"
   ]
  },
  {
   "cell_type": "code",
   "execution_count": 17,
   "metadata": {},
   "outputs": [
    {
     "data": {
      "text/plain": [
       "[('items',\n",
       "  (973193.0, 9.133135976111625, 29.20419828297713, 1.0, 1.0, 2.0, 6.0)),\n",
       " ('quantity',\n",
       "  (973193.0, 741.3298348837282, 3665.426958468499, 0.0, 28.0, 100.0, 350.0)),\n",
       " ('nic',\n",
       "  (973193.0, 73.05891517921756, 188.07025690683025, 0.0, 7.8, 22.64, 65.0)),\n",
       " ('act_cost',\n",
       "  (973193.0, 67.98661326170611, 174.40170332300627, 0.04, 7.33, 21.22, 60.67))]"
      ]
     },
     "execution_count": 17,
     "metadata": {},
     "output_type": "execute_result"
    }
   ],
   "source": [
    "summary_stats\n",
    "#format[('Col',(total, mean, std, q25, median, q75))]"
   ]
  },
  {
   "cell_type": "markdown",
   "metadata": {},
   "source": [
    "### Task II: Find bnf codes with the highest number of items, i.e. the most common bnf code"
   ]
  },
  {
   "cell_type": "code",
   "execution_count": 4,
   "metadata": {},
   "outputs": [
    {
     "data": {
      "text/plain": [
       "bnf_name\n",
       "365 Film 10cm x 12cm VP Adh Film Dress       2\n",
       "365 Non Adherent 10cm x 10cm Pfa Plas Fa     3\n",
       "365 Non Adherent 10cm x 20cm Pfa Plas Fa     1\n",
       "365 Non Woven Island 8cm x 10cm Adh Dres     1\n",
       "365 Transpt Island 5cm x 7.2cm VP Adh Fi     2\n",
       "                                            ..\n",
       "nSpire PiKo-1 Stnd Range Peak Flow Meter     1\n",
       "nSpire Pocket Peak Low Range Peak Flow M     4\n",
       "nSpire Pocket Peak Stnd Range Peak Flow      8\n",
       "oraNurse_Toothpaste Orig (1450ppm)           4\n",
       "palmdoc (Reagent)_Strips                    59\n",
       "Name: items, Length: 13471, dtype: int64"
      ]
     },
     "execution_count": 4,
     "metadata": {},
     "output_type": "execute_result"
    }
   ],
   "source": [
    "total_items_names = scripts.groupby('bnf_name')\n",
    "total_items = scripts.groupby('bnf_name')['items'].sum()\n",
    "total_items"
   ]
  },
  {
   "cell_type": "code",
   "execution_count": 5,
   "metadata": {},
   "outputs": [
    {
     "data": {
      "text/plain": [
       "'Omeprazole_Cap E/C 20mg'"
      ]
     },
     "execution_count": 5,
     "metadata": {},
     "output_type": "execute_result"
    }
   ],
   "source": [
    "v = list(total_items)\n",
    "max_ind = v.index(max(v))\n",
    "total_items_df = total_items.to_frame()\n",
    "most_common_item = total_items_df.iloc[v.index(max(v))] \n",
    "# Most common Item\n",
    "total_items_df.index.values[max_ind]"
   ]
  },
  {
   "cell_type": "code",
   "execution_count": 6,
   "metadata": {},
   "outputs": [
    {
     "data": {
      "text/plain": [
       "items    218583\n",
       "Name: Omeprazole_Cap E/C 20mg, dtype: int64"
      ]
     },
     "execution_count": 6,
     "metadata": {},
     "output_type": "execute_result"
    }
   ],
   "source": [
    "most_common_item"
   ]
  },
  {
   "cell_type": "markdown",
   "metadata": {},
   "source": [
    "### Task III: Most common bnf by Region"
   ]
  },
  {
   "cell_type": "markdown",
   "metadata": {},
   "source": [
    "The post code information is in the `practices` DataFrame, and we would need to`merge` it into the `scripts` DataFrame."
   ]
  },
  {
   "cell_type": "code",
   "execution_count": 31,
   "metadata": {},
   "outputs": [
    {
     "data": {
      "text/html": [
       "<div>\n",
       "<style scoped>\n",
       "    .dataframe tbody tr th:only-of-type {\n",
       "        vertical-align: middle;\n",
       "    }\n",
       "\n",
       "    .dataframe tbody tr th {\n",
       "        vertical-align: top;\n",
       "    }\n",
       "\n",
       "    .dataframe thead th {\n",
       "        text-align: right;\n",
       "    }\n",
       "</style>\n",
       "<table border=\"1\" class=\"dataframe\">\n",
       "  <thead>\n",
       "    <tr style=\"text-align: right;\">\n",
       "      <th></th>\n",
       "      <th>code</th>\n",
       "      <th>name</th>\n",
       "      <th>addr_1</th>\n",
       "      <th>addr_2</th>\n",
       "      <th>borough</th>\n",
       "      <th>village</th>\n",
       "      <th>post_code</th>\n",
       "    </tr>\n",
       "  </thead>\n",
       "  <tbody>\n",
       "    <tr>\n",
       "      <th>0</th>\n",
       "      <td>A81002</td>\n",
       "      <td>QUEENS PARK MEDICAL CENTRE</td>\n",
       "      <td>QUEENS PARK MEDICAL CTR</td>\n",
       "      <td>FARRER STREET</td>\n",
       "      <td>STOCKTON ON TEES</td>\n",
       "      <td>CLEVELAND</td>\n",
       "      <td>TS18 2AW</td>\n",
       "    </tr>\n",
       "    <tr>\n",
       "      <th>1</th>\n",
       "      <td>A81003</td>\n",
       "      <td>VICTORIA MEDICAL PRACTICE</td>\n",
       "      <td>THE HEALTH CENTRE</td>\n",
       "      <td>VICTORIA ROAD</td>\n",
       "      <td>HARTLEPOOL</td>\n",
       "      <td>CLEVELAND</td>\n",
       "      <td>TS26 8DB</td>\n",
       "    </tr>\n",
       "    <tr>\n",
       "      <th>2</th>\n",
       "      <td>A81004</td>\n",
       "      <td>WOODLANDS ROAD SURGERY</td>\n",
       "      <td>6 WOODLANDS ROAD</td>\n",
       "      <td>NaN</td>\n",
       "      <td>MIDDLESBROUGH</td>\n",
       "      <td>CLEVELAND</td>\n",
       "      <td>TS1 3BE</td>\n",
       "    </tr>\n",
       "    <tr>\n",
       "      <th>3</th>\n",
       "      <td>A81005</td>\n",
       "      <td>SPRINGWOOD SURGERY</td>\n",
       "      <td>SPRINGWOOD SURGERY</td>\n",
       "      <td>RECTORY LANE</td>\n",
       "      <td>GUISBOROUGH</td>\n",
       "      <td>NaN</td>\n",
       "      <td>TS14 7DJ</td>\n",
       "    </tr>\n",
       "    <tr>\n",
       "      <th>4</th>\n",
       "      <td>A81006</td>\n",
       "      <td>TENNANT STREET MEDICAL PRACTICE</td>\n",
       "      <td>TENNANT ST MED PRACT</td>\n",
       "      <td>FARRER STREET</td>\n",
       "      <td>STOCKTON ON TEES</td>\n",
       "      <td>CLEVELAND</td>\n",
       "      <td>TS18 2AT</td>\n",
       "    </tr>\n",
       "  </tbody>\n",
       "</table>\n",
       "</div>"
      ],
      "text/plain": [
       "     code                             name                   addr_1  \\\n",
       "0  A81002       QUEENS PARK MEDICAL CENTRE  QUEENS PARK MEDICAL CTR   \n",
       "1  A81003        VICTORIA MEDICAL PRACTICE        THE HEALTH CENTRE   \n",
       "2  A81004           WOODLANDS ROAD SURGERY         6 WOODLANDS ROAD   \n",
       "3  A81005               SPRINGWOOD SURGERY       SPRINGWOOD SURGERY   \n",
       "4  A81006  TENNANT STREET MEDICAL PRACTICE     TENNANT ST MED PRACT   \n",
       "\n",
       "          addr_2           borough    village post_code  \n",
       "0  FARRER STREET  STOCKTON ON TEES  CLEVELAND  TS18 2AW  \n",
       "1  VICTORIA ROAD        HARTLEPOOL  CLEVELAND  TS26 8DB  \n",
       "2            NaN     MIDDLESBROUGH  CLEVELAND   TS1 3BE  \n",
       "3   RECTORY LANE       GUISBOROUGH        NaN  TS14 7DJ  \n",
       "4  FARRER STREET  STOCKTON ON TEES  CLEVELAND  TS18 2AT  "
      ]
     },
     "execution_count": 31,
     "metadata": {},
     "output_type": "execute_result"
    }
   ],
   "source": [
    "practices.head()"
   ]
  },
  {
   "cell_type": "code",
   "execution_count": 7,
   "metadata": {},
   "outputs": [
    {
     "data": {
      "text/plain": [
       "practice\n",
       "A81001              [TS18 1HU]\n",
       "A81002              [TS18 2AW]\n",
       "A81003    [TS26 8DB, TS25 1QU]\n",
       "A81004      [TS1 3BE, TS5 8SB]\n",
       "A81005              [TS14 7DJ]\n",
       "                  ...         \n",
       "Y05758               [WN8 6LJ]\n",
       "Y05762              [SW20 8DA]\n",
       "Y05763               [CB6 1DN]\n",
       "Y05764              [PE11 3PB]\n",
       "Y05771               [HA1 3UJ]\n",
       "Name: post_code, Length: 10843, dtype: object"
      ]
     },
     "execution_count": 7,
     "metadata": {},
     "output_type": "execute_result"
    }
   ],
   "source": [
    "# Prepping the data for merger\n",
    "# The code in practices dataframe is the same as practice in scripts : change code in practices to 'practice'\n",
    "\n",
    "#Note: Some practices have multiple postal codes associated with them. Use the alphabetically first postal code. \n",
    "practices = practices.rename(columns={'code': 'practice'})\n",
    "practices_sub = practices[['practice','post_code']]\n",
    "# Get a list of postcodes per practice\n",
    "practices_group_by_pract = practices_sub.groupby('practice')['post_code'].apply(list) \n",
    "practices_group_by_pract"
   ]
  },
  {
   "cell_type": "code",
   "execution_count": 8,
   "metadata": {},
   "outputs": [
    {
     "data": {
      "text/html": [
       "<div>\n",
       "<style scoped>\n",
       "    .dataframe tbody tr th:only-of-type {\n",
       "        vertical-align: middle;\n",
       "    }\n",
       "\n",
       "    .dataframe tbody tr th {\n",
       "        vertical-align: top;\n",
       "    }\n",
       "\n",
       "    .dataframe thead th {\n",
       "        text-align: right;\n",
       "    }\n",
       "</style>\n",
       "<table border=\"1\" class=\"dataframe\">\n",
       "  <thead>\n",
       "    <tr style=\"text-align: right;\">\n",
       "      <th></th>\n",
       "      <th>practice</th>\n",
       "      <th>post_code</th>\n",
       "    </tr>\n",
       "  </thead>\n",
       "  <tbody>\n",
       "    <tr>\n",
       "      <th>0</th>\n",
       "      <td>A81001</td>\n",
       "      <td>TS18 1HU</td>\n",
       "    </tr>\n",
       "    <tr>\n",
       "      <th>1</th>\n",
       "      <td>A81002</td>\n",
       "      <td>TS18 2AW</td>\n",
       "    </tr>\n",
       "    <tr>\n",
       "      <th>2</th>\n",
       "      <td>A81003</td>\n",
       "      <td>TS25 1QU</td>\n",
       "    </tr>\n",
       "    <tr>\n",
       "      <th>3</th>\n",
       "      <td>A81004</td>\n",
       "      <td>TS1 3BE</td>\n",
       "    </tr>\n",
       "    <tr>\n",
       "      <th>4</th>\n",
       "      <td>A81005</td>\n",
       "      <td>TS14 7DJ</td>\n",
       "    </tr>\n",
       "    <tr>\n",
       "      <th>...</th>\n",
       "      <td>...</td>\n",
       "      <td>...</td>\n",
       "    </tr>\n",
       "    <tr>\n",
       "      <th>10838</th>\n",
       "      <td>Y05758</td>\n",
       "      <td>WN8 6LJ</td>\n",
       "    </tr>\n",
       "    <tr>\n",
       "      <th>10839</th>\n",
       "      <td>Y05762</td>\n",
       "      <td>SW20 8DA</td>\n",
       "    </tr>\n",
       "    <tr>\n",
       "      <th>10840</th>\n",
       "      <td>Y05763</td>\n",
       "      <td>CB6 1DN</td>\n",
       "    </tr>\n",
       "    <tr>\n",
       "      <th>10841</th>\n",
       "      <td>Y05764</td>\n",
       "      <td>PE11 3PB</td>\n",
       "    </tr>\n",
       "    <tr>\n",
       "      <th>10842</th>\n",
       "      <td>Y05771</td>\n",
       "      <td>HA1 3UJ</td>\n",
       "    </tr>\n",
       "  </tbody>\n",
       "</table>\n",
       "<p>10843 rows × 2 columns</p>\n",
       "</div>"
      ],
      "text/plain": [
       "      practice post_code\n",
       "0       A81001  TS18 1HU\n",
       "1       A81002  TS18 2AW\n",
       "2       A81003  TS25 1QU\n",
       "3       A81004   TS1 3BE\n",
       "4       A81005  TS14 7DJ\n",
       "...        ...       ...\n",
       "10838   Y05758   WN8 6LJ\n",
       "10839   Y05762  SW20 8DA\n",
       "10840   Y05763   CB6 1DN\n",
       "10841   Y05764  PE11 3PB\n",
       "10842   Y05771   HA1 3UJ\n",
       "\n",
       "[10843 rows x 2 columns]"
      ]
     },
     "execution_count": 8,
     "metadata": {},
     "output_type": "execute_result"
    }
   ],
   "source": [
    "# Choosing the alphabetically first postal code\n",
    "practices_group_by_pract = practices_group_by_pract.apply(lambda x: min(x))\n",
    "# Turn into data frame for merger\n",
    "practices_group_by_pract = practices_group_by_pract.to_frame().reset_index() \n",
    "practices_group_by_pract"
   ]
  },
  {
   "cell_type": "code",
   "execution_count": 9,
   "metadata": {},
   "outputs": [
    {
     "data": {
      "text/plain": [
       "['B11 4BW', 'B12 9LP', 'B18 7AL', 'B21 9RY', 'B23 6DJ']"
      ]
     },
     "metadata": {},
     "output_type": "display_data"
    },
    {
     "data": {
      "text/plain": [
       "post_code  bnf_name                                \n",
       "B11 4BW    3m Health Care_Cavilon Durable Barrier C     7\n",
       "           3m Health Care_Cavilon No Sting Barrier      2\n",
       "           Abasaglar KwikPen_100u/ml 3ml Pf Pen         2\n",
       "           Abidec_Dps                                  63\n",
       "           Able Spacer + Sml/Med Mask                   1\n",
       "Name: items, dtype: int64"
      ]
     },
     "execution_count": 9,
     "metadata": {},
     "output_type": "execute_result"
    }
   ],
   "source": [
    "# Merging Data\n",
    "##############\n",
    "merged_df = scripts.merge(practices_group_by_pract, on=['practice'], how='left')\n",
    "\n",
    "# List of unique postcodes sorted alphabetically\n",
    "###############################################\n",
    "l_postcodes = merged_df['post_code'].unique().tolist()\n",
    "l_postcodes.sort() # 259 unique postcodes\n",
    "display(l_postcodes[:5]) \n",
    "\n",
    "# Grouping I of merged dataframe: \n",
    "################################\n",
    "# Dipsension per practice\n",
    "merged_group_bnf_postcode=  merged_df.groupby(['post_code','bnf_name'])['items'].sum()\n",
    "merged_group_bnf_postcode.head()"
   ]
  },
  {
   "cell_type": "code",
   "execution_count": 10,
   "metadata": {},
   "outputs": [
    {
     "data": {
      "text/plain": [
       "post_code\n",
       "B11 4BW    22731\n",
       "B12 9LP    17073\n",
       "B18 7AL    20508\n",
       "B21 9RY    31027\n",
       "B23 6DJ    28011\n",
       "Name: items, dtype: int64"
      ]
     },
     "execution_count": 10,
     "metadata": {},
     "output_type": "execute_result"
    }
   ],
   "source": [
    "# Grouping II:\n",
    "#############\n",
    "# Dispension per postal code\n",
    "merged_group_postcode = merged_df.groupby('post_code')['items'].sum()\n",
    "merged_group_postcode.head()"
   ]
  },
  {
   "cell_type": "code",
   "execution_count": 11,
   "metadata": {},
   "outputs": [],
   "source": [
    "# The strategy is to use the list of unique postcode to iterate over the grouped by postcode and bnf [list of tuples] using .loc\n",
    "# Extract for each postcode: 2 things: I. list of number of items and find the max to determine the most common bnf code\n",
    "#                                     II. Corresponding list of most common bnf code per postcode\n",
    "\n",
    "# find the first index of max usually that corresponds to the min alphabetical order of bnf-code, in case of postcode has \n",
    "# multiple bnf_code with max number of items.\n",
    "\n",
    "# Iterate\n",
    "# Dataframe\n",
    "\n",
    "l_mostcom_perpostcode = []\n",
    "l_mostcom_numitems =[]\n",
    "for postcode in l_postcodes:\n",
    "    df = merged_group_bnf_postcode.loc[postcode].to_frame().reset_index()\n",
    "    v = list(df['items'])\n",
    "    max_ind = v.index(max(v))\n",
    "    l_mostcom_perpostcode.append(df.iloc[v.index(max(v))]['bnf_name'])    \n",
    "    l_mostcom_numitems.append(df.iloc[v.index(max(v))]['items'])  "
   ]
  },
  {
   "cell_type": "code",
   "execution_count": 13,
   "metadata": {},
   "outputs": [
    {
     "data": {
      "text/plain": [
       "[('B11 4BW', 'Salbutamol_Inha 100mcg (200 D) CFF', 0.031058906339360346),\n",
       " ('B12 9LP', 'Paracet_Tab 500mg', 0.02489310607391788),\n",
       " ('B18 7AL', 'Salbutamol_Inha 100mcg (200 D) CFF', 0.027111371172225472),\n",
       " ('B21 9RY', 'Metformin HCl_Tab 500mg', 0.03329358300834757),\n",
       " ('B23 6DJ', 'Lansoprazole_Cap 30mg (E/C Gran)', 0.021384456106529576)]"
      ]
     },
     "execution_count": 13,
     "metadata": {},
     "output_type": "execute_result"
    }
   ],
   "source": [
    "# Instead of number of items.. find proportion relative to total number of items\n",
    "total_items_perpostcode = merged_df.groupby('post_code')['items'].sum().tolist()\n",
    "l_max_prop = np.array(l_mostcom_numitems)/np.array(total_items_perpostcode) \n",
    "l_max_prop = list(l_max_prop)\n",
    "  \n",
    "list_ofall = list(zip(l_postcodes, l_mostcom_perpostcode,l_max_prop)) \n",
    "list_ofall[:5]"
   ]
  },
  {
   "cell_type": "markdown",
   "metadata": {},
   "source": [
    "### Task IV: Identifying Script Anomalies\n",
    "\n",
    "Drug abuse is a source of human and monetary costs in health care. A first step in identifying practitioners that enable drug abuse is to look for practices where commonly abused drugs are prescribed unusually often by finding  practices that prescribe an unusually high amount of opioids. "
   ]
  },
  {
   "cell_type": "code",
   "execution_count": null,
   "metadata": {},
   "outputs": [],
   "source": [
    "str.contains(r'[Nn]ational accounts') "
   ]
  },
  {
   "cell_type": "markdown",
   "metadata": {},
   "source": [
    "Drug abuse is a source of human and monetary costs in health care. A first step in identifying practitioners that enable drug abuse is to look for practices where commonly abused drugs are prescribed unusually often.\n",
    "```python\n",
    "opioids = ['morphine', 'oxycodone', 'methadone', 'fentanyl', 'pethidine', 'buprenorphine', 'propoxyphene', 'codeine']\n",
    "```\n",
    "\n",
    "These are generic names for drugs, not brand names. Generic drug names can be found using the `'bnf_code'` field in `scripts` along with the `chem` table.. Use the list of opioids provided above along with these fields to make a new field in the `scripts` data that flags whether the row corresponds with a opioid prescription."
   ]
  },
  {
   "cell_type": "code",
   "execution_count": 224,
   "metadata": {},
   "outputs": [],
   "source": [
    "# checking the names in the chem dataframe, the drugs name are in Capital. Therefore,we added the capitalized options to opioids\n",
    "opioids = ['morphine', 'oxycodone', 'methadone', 'fentanyl', 'pethidine', 'buprenorphine', 'propoxyphene', 'codeine']\n",
    "opioids_updated = opioids + [opioids[i].capitalize() for i in range(len(opioids))]"
   ]
  },
  {
   "cell_type": "code",
   "execution_count": 228,
   "metadata": {},
   "outputs": [
    {
     "data": {
      "text/html": [
       "<div>\n",
       "<style scoped>\n",
       "    .dataframe tbody tr th:only-of-type {\n",
       "        vertical-align: middle;\n",
       "    }\n",
       "\n",
       "    .dataframe tbody tr th {\n",
       "        vertical-align: top;\n",
       "    }\n",
       "\n",
       "    .dataframe thead th {\n",
       "        text-align: right;\n",
       "    }\n",
       "</style>\n",
       "<table border=\"1\" class=\"dataframe\">\n",
       "  <thead>\n",
       "    <tr style=\"text-align: right;\">\n",
       "      <th></th>\n",
       "      <th>CHEM SUB</th>\n",
       "      <th>NAME</th>\n",
       "    </tr>\n",
       "  </thead>\n",
       "  <tbody>\n",
       "    <tr>\n",
       "      <th>0</th>\n",
       "      <td>0101010A0</td>\n",
       "      <td>Alexitol Sodium</td>\n",
       "    </tr>\n",
       "    <tr>\n",
       "      <th>1</th>\n",
       "      <td>0101010B0</td>\n",
       "      <td>Almasilate</td>\n",
       "    </tr>\n",
       "    <tr>\n",
       "      <th>2</th>\n",
       "      <td>0101010C0</td>\n",
       "      <td>Aluminium Hydroxide</td>\n",
       "    </tr>\n",
       "    <tr>\n",
       "      <th>3</th>\n",
       "      <td>0101010D0</td>\n",
       "      <td>Aluminium Hydroxide With Magnesium</td>\n",
       "    </tr>\n",
       "    <tr>\n",
       "      <th>4</th>\n",
       "      <td>0101010E0</td>\n",
       "      <td>Hydrotalcite</td>\n",
       "    </tr>\n",
       "  </tbody>\n",
       "</table>\n",
       "</div>"
      ],
      "text/plain": [
       "    CHEM SUB                                NAME\n",
       "0  0101010A0                     Alexitol Sodium\n",
       "1  0101010B0                          Almasilate\n",
       "2  0101010C0                 Aluminium Hydroxide\n",
       "3  0101010D0  Aluminium Hydroxide With Magnesium\n",
       "4  0101010E0                        Hydrotalcite"
      ]
     },
     "execution_count": 228,
     "metadata": {},
     "output_type": "execute_result"
    }
   ],
   "source": [
    "chem.head() # CHEM SUB is the same as bnf_code"
   ]
  },
  {
   "cell_type": "code",
   "execution_count": 225,
   "metadata": {},
   "outputs": [],
   "source": [
    "# A nice strategy is to split the names in chem['NAME'] and use a function to perform fuzzy match in case of minor variation\n",
    "# in the name of the opioids \n",
    "split_names = {i: set(i.split(' ')) for i in opioids_updated}\n",
    "\n",
    "def fuzzy_match(word, s): # s is the split opoid and word is from the script # this function needs to be developed further to include capital and stuff\n",
    "    words = set(word.split(' '))\n",
    "    overlaps = [(k, len(v.intersection(words))) for k, v in s.items()]\n",
    "    \n",
    "    x = [overlaps[i][1] for i in range(len(s))]\n",
    "    match = sum(x)\n",
    "    \n",
    "    if match > 0: \n",
    "        return 1\n",
    "    else:\n",
    "        return 0\n",
    "  \n",
    "opioids_match_l =[]   \n",
    "for name in chem['NAME']:\n",
    "        match = fuzzy_match(name,split_names)\n",
    "        opioids_match_l.append(match)\n",
    "# sum(opioids_match_l) #24"
   ]
  },
  {
   "cell_type": "code",
   "execution_count": 232,
   "metadata": {},
   "outputs": [],
   "source": [
    "# Opioids Codes\n",
    "###############\n",
    "indexes = [i for i,x in enumerate(opioids_match_l) if x == 1]\n",
    "opioid_codes = chem['CHEM SUB'].iloc[indexes] \n",
    "\n",
    "##################\n",
    "#Now make a new field in the scripts data that flags whether the row correspons with an opioid prescription\n",
    "#############################################################################################################\n",
    "is_opioid =[]\n",
    "for code in scripts['bnf_code']:\n",
    "    if code in list(opioid_codes):\n",
    "        is_opioid.append(1)\n",
    "    else:\n",
    "        is_opioid.append(0)   \n",
    "\n",
    "#sum(is_opioid)is 24594\n",
    "scripts['opioids']=is_opioid"
   ]
  },
  {
   "cell_type": "code",
   "execution_count": 254,
   "metadata": {},
   "outputs": [],
   "source": [
    "# counts of prescriptions by practices and opioids\n",
    "grouped_bypractice_opioid  = scripts.groupby(['practice','opioids'])['items'].count().to_frame().reset_index() # we have a length of 1631 out of 856 unique practices,\n",
    "# counts of prescriptions by practices\n",
    "grouped_bypractice=scripts.groupby('practice')['items'].count().to_frame().reset_index()"
   ]
  },
  {
   "cell_type": "code",
   "execution_count": 276,
   "metadata": {},
   "outputs": [
    {
     "data": {
      "text/html": [
       "<div>\n",
       "<style scoped>\n",
       "    .dataframe tbody tr th:only-of-type {\n",
       "        vertical-align: middle;\n",
       "    }\n",
       "\n",
       "    .dataframe tbody tr th {\n",
       "        vertical-align: top;\n",
       "    }\n",
       "\n",
       "    .dataframe thead th {\n",
       "        text-align: right;\n",
       "    }\n",
       "</style>\n",
       "<table border=\"1\" class=\"dataframe\">\n",
       "  <thead>\n",
       "    <tr style=\"text-align: right;\">\n",
       "      <th></th>\n",
       "      <th>practice</th>\n",
       "      <th>opioids</th>\n",
       "      <th>items</th>\n",
       "    </tr>\n",
       "  </thead>\n",
       "  <tbody>\n",
       "    <tr>\n",
       "      <th>0</th>\n",
       "      <td>A81005</td>\n",
       "      <td>0</td>\n",
       "      <td>1472</td>\n",
       "    </tr>\n",
       "    <tr>\n",
       "      <th>1</th>\n",
       "      <td>A81005</td>\n",
       "      <td>1</td>\n",
       "      <td>35</td>\n",
       "    </tr>\n",
       "    <tr>\n",
       "      <th>2</th>\n",
       "      <td>A81007</td>\n",
       "      <td>0</td>\n",
       "      <td>1403</td>\n",
       "    </tr>\n",
       "    <tr>\n",
       "      <th>3</th>\n",
       "      <td>A81007</td>\n",
       "      <td>1</td>\n",
       "      <td>51</td>\n",
       "    </tr>\n",
       "    <tr>\n",
       "      <th>4</th>\n",
       "      <td>A81011</td>\n",
       "      <td>0</td>\n",
       "      <td>1512</td>\n",
       "    </tr>\n",
       "  </tbody>\n",
       "</table>\n",
       "</div>"
      ],
      "text/plain": [
       "  practice  opioids  items\n",
       "0   A81005        0   1472\n",
       "1   A81005        1     35\n",
       "2   A81007        0   1403\n",
       "3   A81007        1     51\n",
       "4   A81011        0   1512"
      ]
     },
     "execution_count": 276,
     "metadata": {},
     "output_type": "execute_result"
    }
   ],
   "source": [
    "grouped_bypractice_opioid.head()"
   ]
  },
  {
   "cell_type": "code",
   "execution_count": 289,
   "metadata": {},
   "outputs": [
    {
     "data": {
      "text/html": [
       "<div>\n",
       "<style scoped>\n",
       "    .dataframe tbody tr th:only-of-type {\n",
       "        vertical-align: middle;\n",
       "    }\n",
       "\n",
       "    .dataframe tbody tr th {\n",
       "        vertical-align: top;\n",
       "    }\n",
       "\n",
       "    .dataframe thead th {\n",
       "        text-align: right;\n",
       "    }\n",
       "</style>\n",
       "<table border=\"1\" class=\"dataframe\">\n",
       "  <thead>\n",
       "    <tr style=\"text-align: right;\">\n",
       "      <th></th>\n",
       "      <th>practice</th>\n",
       "      <th>items</th>\n",
       "    </tr>\n",
       "  </thead>\n",
       "  <tbody>\n",
       "    <tr>\n",
       "      <th>0</th>\n",
       "      <td>A81005</td>\n",
       "      <td>1507</td>\n",
       "    </tr>\n",
       "    <tr>\n",
       "      <th>1</th>\n",
       "      <td>A81007</td>\n",
       "      <td>1454</td>\n",
       "    </tr>\n",
       "    <tr>\n",
       "      <th>2</th>\n",
       "      <td>A81011</td>\n",
       "      <td>1568</td>\n",
       "    </tr>\n",
       "    <tr>\n",
       "      <th>3</th>\n",
       "      <td>A81012</td>\n",
       "      <td>1332</td>\n",
       "    </tr>\n",
       "    <tr>\n",
       "      <th>4</th>\n",
       "      <td>A81017</td>\n",
       "      <td>2150</td>\n",
       "    </tr>\n",
       "  </tbody>\n",
       "</table>\n",
       "</div>"
      ],
      "text/plain": [
       "  practice  items\n",
       "0   A81005   1507\n",
       "1   A81007   1454\n",
       "2   A81011   1568\n",
       "3   A81012   1332\n",
       "4   A81017   2150"
      ]
     },
     "execution_count": 289,
     "metadata": {},
     "output_type": "execute_result"
    }
   ],
   "source": [
    "grouped_bypractice.head()"
   ]
  },
  {
   "cell_type": "code",
   "execution_count": 290,
   "metadata": {},
   "outputs": [],
   "source": [
    "# I have an idea: we can still extract the practices with opioid only.. then add the practices with no opioid\n",
    "# All practices:856\n",
    "# list of unique practices\n",
    "l_practices = scripts['practice'].unique().tolist()\n",
    "# Pratices with opioids only: 776... . \n",
    "l_practices_opioids = [grouped_bypractice_opioid.iloc[i]['practice'] for i in range(grouped_bypractice_opioid.shape[0]) if grouped_bypractice_opioid.iloc[i]['opioids']==1] #848 practices prescribed rare.. \n",
    "# Counts of opioid prescriptions in the practices\n",
    "practices_opioids_counts =[grouped_bypractice_opioid.iloc[i]['items'] for i in range(grouped_bypractice_opioid.shape[0]) if grouped_bypractice_opioid.iloc[i]['opioids']==1]\n",
    "# Counts of opioid prescriptions in the practices\n",
    "practices_presc_counts =[grouped_bypractice.iloc[i]['items'] for i in range(grouped_bypractice.shape[0])]"
   ]
  },
  {
   "cell_type": "code",
   "execution_count": 293,
   "metadata": {},
   "outputs": [
    {
     "name": "stdout",
     "output_type": "stream",
     "text": [
      "num of practices with opioids only\n"
     ]
    },
    {
     "data": {
      "text/plain": [
       "776"
      ]
     },
     "metadata": {},
     "output_type": "display_data"
    }
   ],
   "source": [
    "print('num of practices with opioids only')\n",
    "display(len(practices_opioids_counts))"
   ]
  },
  {
   "cell_type": "code",
   "execution_count": 284,
   "metadata": {},
   "outputs": [],
   "source": [
    "# Identifying the practices that have no opioids: 80\n",
    "l_practices_no_opioids = [x for x in l_practices if x not in l_practices_opioids]"
   ]
  },
  {
   "cell_type": "code",
   "execution_count": 286,
   "metadata": {},
   "outputs": [],
   "source": [
    "# Concatenating the list so that list of practices of no opioids come last\n",
    "l_practices_all_opioids_first = l_practices_opioids + l_practices_no_opioids\n",
    "practices_opioids_counts_all = practices_opioids_counts + [0]*len(l_practices_no_opioids)"
   ]
  },
  {
   "cell_type": "code",
   "execution_count": 287,
   "metadata": {},
   "outputs": [
    {
     "data": {
      "text/plain": [
       "856"
      ]
     },
     "execution_count": 287,
     "metadata": {},
     "output_type": "execute_result"
    }
   ],
   "source": [
    "len(practices_opioids_counts_all)"
   ]
  },
  {
   "cell_type": "code",
   "execution_count": 302,
   "metadata": {},
   "outputs": [],
   "source": [
    "# count proportion:  For instance, [0, 1, 1, 0, 0, 0] the proportion of the entries 1s is equivalent to the mean of the list\n",
    "opioids_per_practice = np.array(practices_opioids_counts_all)/np.array(practices_presc_counts)\n",
    "opioids_per_practice = opioids_per_practice.tolist()\n",
    "# a list of sample means (proportions)... "
   ]
  },
  {
   "cell_type": "code",
   "execution_count": 319,
   "metadata": {},
   "outputs": [
    {
     "data": {
      "text/plain": [
       "[<matplotlib.lines.Line2D at 0x7fc30c904750>]"
      ]
     },
     "execution_count": 319,
     "metadata": {},
     "output_type": "execute_result"
    },
    {
     "data": {
      "image/png": "[encoded data removed]",
      "text/plain": [
       "<Figure size 432x288 with 1 Axes>"
      ]
     },
     "metadata": {
      "needs_background": "light"
     },
     "output_type": "display_data"
    }
   ],
   "source": [
    "plt.plot(opioids_per_practice)"
   ]
  },
  {
   "cell_type": "markdown",
   "metadata": {},
   "source": [
    "### Zscore of opioids proportion per practice"
   ]
  },
  {
   "cell_type": "markdown",
   "metadata": {},
   "source": [
    "In order to know how these proportions compare to the overall opioid rate, we are going to substract the proportion of all prescriptions that are opioids from each practice's proportion"
   ]
  },
  {
   "cell_type": "code",
   "execution_count": 304,
   "metadata": {},
   "outputs": [],
   "source": [
    "# Relative opioids_per_practice\n",
    "################################\n",
    "# Let's determine mu\n",
    "# mean opioids prescription from all prescription: Overall rate\n",
    "###############################################################\n",
    "opioid_prescription_rate = sum(scripts['opioids'])/scripts.shape[0] # The mean prescription rate of opioid is 2.5% (population mean)\n",
    "\n",
    "# Relative opioid prescription per practise: the difference between each practice's opioid prescription rate and the overall rate\n",
    "relative_opioid_per_practice  = np.array(opioids_per_practice) - np.array(opioid_prescription_rate)\n",
    "relative_opioid_per_practice = relative_opioid_per_practice.tolist()"
   ]
  },
  {
   "cell_type": "code",
   "execution_count": 334,
   "metadata": {},
   "outputs": [],
   "source": [
    "# sigma of all the samples... \n",
    "sigma = np.std(opioids_per_practice)\n",
    "standard_error_perpractice = [sigma/np.sqrt(practices_presc_counts[i]) for i in range(len(practices_presc_counts))]"
   ]
  },
  {
   "cell_type": "code",
   "execution_count": 335,
   "metadata": {},
   "outputs": [],
   "source": [
    "# zscores computation\n",
    "opioid_scores = [(relative_opioid_per_practice[i])/(standard_error_perpractice[i]) for i in range(len(practices_presc_counts))]"
   ]
  },
  {
   "cell_type": "code",
   "execution_count": 336,
   "metadata": {},
   "outputs": [],
   "source": [
    "#Mapping between practice code and names\n",
    "grouped = practices.groupby(['practice'])['name'].apply(list)\n",
    "# Choosing the alphabetically first name\n",
    "grouped = grouped.apply(lambda x: min(x))"
   ]
  },
  {
   "cell_type": "code",
   "execution_count": 337,
   "metadata": {},
   "outputs": [],
   "source": [
    "# ordering the name of practices in the same order of the codes used throughout the analysis\n",
    "name_practice_opioid_all = []\n",
    "for practice in l_practices_all_opioids_first:\n",
    "    name_practice_opioid_all.append(grouped.loc[practice])"
   ]
  },
  {
   "cell_type": "code",
   "execution_count": 338,
   "metadata": {},
   "outputs": [
    {
     "data": {
      "text/plain": [
       "[('WILLOW BANK SURGERY', 22.061085726802524, 1),\n",
       " ('THE LAKESIDE PRACTICE', 15.672857755947742, 1),\n",
       " ('DARWEN HEALTHCARE', 12.761779596681565, 4),\n",
       " ('ARDEN HEALTHCARE CENTRE', 6.380889798340783, 1),\n",
       " ('BARLBY SURGERY', 6.354710386756162, 2)]"
      ]
     },
     "execution_count": 338,
     "metadata": {},
     "output_type": "execute_result"
    }
   ],
   "source": [
    "anomalies_all = list(zip(name_practice_opioid_all,opioid_scores,practices_presc_counts))\n",
    "anomalies_all.sort(key = lambda x: x[1],reverse=True)   # sort it by zscore\n",
    "anomalies = anomalies_all[:100]\n",
    "anomalies[:5]"
   ]
  },
  {
   "cell_type": "markdown",
   "metadata": {},
   "source": [
    "### Task V: Script Growth"
   ]
  },
  {
   "cell_type": "markdown",
   "metadata": {},
   "source": [
    "Another way to identify anomalies is by comparing current data to historical data. In the case of identifying sites of drug abuse, we might compare a practice's current rate of opioid prescription to their rate 5 or 10 years ago. Unless the nature of the practice has changed, the profile of drugs they prescribe should be relatively stable. We might also want to identify trends through time for business reasons, identifying drugs that are gaining market share. \n",
    "\n",
    "We'll load in beneficiary data from 6 months earlier, June 2016, and calculate the percent growth in prescription rate from June 2016 to January 2017 for each `bnf_name`. We'll return the 50 items with largest growth and the 50 items with the largest shrinkage (i.e. negative percent growth) as a list of tuples sorted by growth rate in descending order in the format `(script_name, growth_rate, raw_2016_count)`.Since many of the 50 fastest growing items have low counts of prescriptions in 2016. Filter out any items that were prescribed less than 50 times"
   ]
  },
  {
   "cell_type": "code",
   "execution_count": 31,
   "metadata": {},
   "outputs": [],
   "source": [
    "# list of unique beneficiaries (bnf) from 2016\n",
    "l_bnf_2016 = scripts16['bnf_name'].unique().tolist()\n",
    "# list of unique beneficiaries (bnf) from 2017\n",
    "l_bnf_2017= scripts['bnf_name'].unique().tolist()\n",
    "\n",
    "# list of common bnf between 2016 and 2017\n",
    "def list_intersection(lst1, lst2): \n",
    "    return list(set(lst1) & set(lst2))\n",
    "common_bnf_names = list_intersection(l_bnf_2016,l_bnf_2017) #13540 common bnf between 2016 and 2017 "
   ]
  },
  {
   "cell_type": "code",
   "execution_count": 32,
   "metadata": {},
   "outputs": [],
   "source": [
    "# Prescription rates refers to the count of prescriptions, not to the sum of items...\n",
    "group_by_bnf_scripts16 = scripts16.groupby('bnf_name')['items'].count()\n",
    "group_by_bnf_scripts = scripts.groupby('bnf_name')['items'].count()"
   ]
  },
  {
   "cell_type": "code",
   "execution_count": 33,
   "metadata": {},
   "outputs": [],
   "source": [
    "# Saving prescription number in a corresponding order in a list for 2016 & 2017\n",
    "l_bnf_presc_count_2016=[]\n",
    "l_bnf_presc_count_2017=[]\n",
    "\n",
    "for bnf in common_bnf_names:\n",
    "    l_bnf_presc_count_2016.append(group_by_bnf_scripts16.loc[bnf])\n",
    "    l_bnf_presc_count_2017.append(group_by_bnf_scripts.loc[bnf])    "
   ]
  },
  {
   "cell_type": "code",
   "execution_count": 48,
   "metadata": {},
   "outputs": [],
   "source": [
    "growth =((np.array(l_bnf_presc_count_2017) - np.array(l_bnf_presc_count_2016))/np.array(l_bnf_presc_count_2016))*100"
   ]
  },
  {
   "cell_type": "code",
   "execution_count": 49,
   "metadata": {},
   "outputs": [],
   "source": [
    "df = pd.DataFrame({'Name':common_bnf_names, '%growth': growth, 'baseline': l_bnf_presc_count_2016}) # 11587\n",
    "# Filter out anything in 2016 prescribed less than 50\n",
    "df_greaterthan50 =df[df['baseline']>= 50] "
   ]
  },
  {
   "cell_type": "code",
   "execution_count": 50,
   "metadata": {},
   "outputs": [],
   "source": [
    "common_bn_names_threshold = df_greaterthan50['Name'].tolist()\n",
    "growth_threshold = df_greaterthan50['%growth'].tolist()\n",
    "baseline_threshold = df_greaterthan50['baseline'].tolist()"
   ]
  },
  {
   "cell_type": "code",
   "execution_count": 51,
   "metadata": {},
   "outputs": [
    {
     "name": "stdout",
     "output_type": "stream",
     "text": [
      "Top five bnf in +ve growth\n"
     ]
    },
    {
     "data": {
      "text/plain": [
       "[('Butec_Transdermal Patch 5mcg/hr', 346.7741935483871, 62),\n",
       " ('Butec_Transdermal Patch 10mcg/hr', 300.0, 69),\n",
       " ('Fostair NEXThaler_Inh 200mcg/6mcg (120D)', 143.0232558139535, 86),\n",
       " ('Pneumococcal_Vac 0.5ml Vl (23 Valent)', 126.94300518134716, 193),\n",
       " ('Spiolto Respimat_Inha2.5/2.5mcg(60D)+Dev', 126.92307692307692, 52)]"
      ]
     },
     "metadata": {},
     "output_type": "display_data"
    },
    {
     "name": "stdout",
     "output_type": "stream",
     "text": [
      "Top five bnf in -ve growth\n"
     ]
    },
    {
     "data": {
      "text/plain": [
       "[('Hydroxyzine HCl_Oral Soln 10mg/5ml', -91.48936170212765, 94),\n",
       " ('Ovysmen_Tab', -92.53731343283582, 67),\n",
       " ('Climaval_Tab 1mg', -92.64705882352942, 136),\n",
       " ('Climesse_Tab', -94.20289855072464, 69),\n",
       " ('Polyalc_Eye Dps 1.4%', -99.63235294117648, 272)]"
      ]
     },
     "metadata": {},
     "output_type": "display_data"
    }
   ],
   "source": [
    "# tuple\n",
    "growth_tuple = list(zip(common_bn_names_threshold,growth_threshold,baseline_threshold))\n",
    "growth_tuple.sort(key = lambda x: x[1],reverse=True) # ascending # sort on index 1 'growth_threshold'\n",
    "#growth_copy.sort(key = lambda x: x[1],reverse=False) # descending\n",
    "growth_final = growth_tuple[:50] + growth_tuple[-50:]\n",
    "print('Top five bnf in +ve growth')\n",
    "display(growth_final[:5])\n",
    "print('Top five bnf in -ve growth')\n",
    "display(growth_final[-5:])"
   ]
  },
  {
   "cell_type": "markdown",
   "metadata": {},
   "source": [
    "### Task VI: Rare Scripts"
   ]
  },
  {
   "cell_type": "markdown",
   "metadata": {},
   "source": [
    "Something to explore: Do a practice's prescription costs originate from routine care or from reliance on rarely prescribed treatments? Commonplace treatments can carry lower costs than rare treatments because of efficiencies in large-scale production. While some specialist practices can't help but avoid prescribing rare medicines because there are no alternatives, some practices may be prescribing a unnecessary amount of brand-name products when generics are available. In this task, we are going identify practices whose costs disproportionately originate from rarely prescribed items."
   ]
  },
  {
   "cell_type": "code",
   "execution_count": null,
   "metadata": {},
   "outputs": [],
   "source": [
    "# Strategy: # Step I: Identify the 'bnf_codes' that are rare and find the probability p that a prescription having a particular\n",
    "# code if the 'bnf_code' was randomly chosen from the unique options in the beneficiary data.\n",
    "# Rare 'bnf_code' if it is prescribed at a rate less than 0.1 p"
   ]
  },
  {
   "cell_type": "code",
   "execution_count": 64,
   "metadata": {},
   "outputs": [],
   "source": [
    "bnf_count_l = scripts.groupby('bnf_code')['items'].count().tolist() \n",
    "bnf_code_df = scripts.groupby('bnf_code')['items'].count().to_frame().reset_index()\n",
    "bnf_pres_rate = np.array(bnf_count_l)/np.sum(bnf_count_l)\n",
    "\n",
    "#Probability of choosing a unique bnf_code 1/total_num of uniques code\n",
    "bnf_code_l = scripts['bnf_code'].unique().tolist()\n",
    "prob_rand = 1/len(unique_bnf_num)# 1975"
   ]
  },
  {
   "cell_type": "code",
   "execution_count": 72,
   "metadata": {},
   "outputs": [],
   "source": [
    "# Step II: for each practise, we are going to calculate the proportion of costs that originate from prescription of rare treatments \n",
    "# (i.e. rare 'bnf_code# 844 rare codes... there is a difference between script and a code , script is an individual entry\n",
    "rare_codes = [bnf_code_l[i] for i in range(len(bnf_code_l)) if bnf_pres_rate[i] < 0.1*(prob_rand)] #844 rare codes"
   ]
  },
  {
   "cell_type": "code",
   "execution_count": 73,
   "metadata": {},
   "outputs": [],
   "source": [
    "# Step III: adding a column 'rare' to the df\n",
    "is_script_rare=[]\n",
    "for script in scripts['bnf_code']:\n",
    "    if script in rare_codes:\n",
    "       is_script_rare. append(1)  \n",
    "    else:\n",
    "        is_script_rare.append(0)  \n",
    "        \n",
    "#adding rare columns to scripts\n",
    "################################\n",
    "scripts['rare']=is_script_rare "
   ]
  },
  {
   "cell_type": "code",
   "execution_count": 74,
   "metadata": {},
   "outputs": [],
   "source": [
    "# Step IV:\n",
    "#########\n",
    "# Rare Cost Proportion per Practice\n",
    "###################################\n",
    "# For each practice, calculate the proportion of costs that originate from the prescription of rare treatments\n",
    "group_by_practice_scripts_cost = scripts.groupby('practice')['act_cost'].sum() # count of individual practice entries which are prescriptions Right 856 unique practices\n",
    "group_by_practice_rare_scripts_cost  = scripts.groupby(['practice','rare'])['act_cost'].sum() # the length is 1621 if for each practice there is rare and no rare, you would\n",
    "# get exactly double 856, but we got 1702.. meaning some practices have no rare... "
   ]
  },
  {
   "cell_type": "code",
   "execution_count": 85,
   "metadata": {},
   "outputs": [
    {
     "data": {
      "text/html": [
       "<div>\n",
       "<style scoped>\n",
       "    .dataframe tbody tr th:only-of-type {\n",
       "        vertical-align: middle;\n",
       "    }\n",
       "\n",
       "    .dataframe tbody tr th {\n",
       "        vertical-align: top;\n",
       "    }\n",
       "\n",
       "    .dataframe thead th {\n",
       "        text-align: right;\n",
       "    }\n",
       "</style>\n",
       "<table border=\"1\" class=\"dataframe\">\n",
       "  <thead>\n",
       "    <tr style=\"text-align: right;\">\n",
       "      <th></th>\n",
       "      <th>practice</th>\n",
       "      <th>rare</th>\n",
       "      <th>act_cost</th>\n",
       "    </tr>\n",
       "  </thead>\n",
       "  <tbody>\n",
       "    <tr>\n",
       "      <th>0</th>\n",
       "      <td>A81005</td>\n",
       "      <td>0</td>\n",
       "      <td>64229.51</td>\n",
       "    </tr>\n",
       "    <tr>\n",
       "      <th>1</th>\n",
       "      <td>A81005</td>\n",
       "      <td>1</td>\n",
       "      <td>39611.31</td>\n",
       "    </tr>\n",
       "    <tr>\n",
       "      <th>2</th>\n",
       "      <td>A81007</td>\n",
       "      <td>0</td>\n",
       "      <td>70149.24</td>\n",
       "    </tr>\n",
       "    <tr>\n",
       "      <th>3</th>\n",
       "      <td>A81007</td>\n",
       "      <td>1</td>\n",
       "      <td>43333.25</td>\n",
       "    </tr>\n",
       "    <tr>\n",
       "      <th>4</th>\n",
       "      <td>A81011</td>\n",
       "      <td>0</td>\n",
       "      <td>101049.04</td>\n",
       "    </tr>\n",
       "  </tbody>\n",
       "</table>\n",
       "</div>"
      ],
      "text/plain": [
       "  practice  rare   act_cost\n",
       "0   A81005     0   64229.51\n",
       "1   A81005     1   39611.31\n",
       "2   A81007     0   70149.24\n",
       "3   A81007     1   43333.25\n",
       "4   A81011     0  101049.04"
      ]
     },
     "execution_count": 85,
     "metadata": {},
     "output_type": "execute_result"
    }
   ],
   "source": [
    "df = group_by_practice_rare_scripts_cost.to_frame().reset_index()\n",
    "df.head()"
   ]
  },
  {
   "cell_type": "code",
   "execution_count": 91,
   "metadata": {},
   "outputs": [],
   "source": [
    "# calculate the proportion of rare costs out of practice costs\n",
    "###############################################################\n",
    "# List of unique postcodes sorted alphabetically\n",
    "###############################################\n",
    "# All practices:856\n",
    "l_practices = scripts['practice'].unique().tolist()\n",
    "# Pratices with rare: 848... 2 of them prescribe only rare.. \n",
    "practices_rare_l = [df.iloc[i]['practice'] for i in range(df.shape[0]) if df.iloc[i]['rare']==1] #848 practices prescribed rare.. \n",
    "# Costs of rare prescriptions in the practices\n",
    "practices_rare_costs =[df.iloc[i]['act_cost'] for i in range(df.shape[0]) if df.iloc[i]['rare']==1]\n",
    "# Interestingly there are 854 (total 856) that have 'no rare', meaning some practices only prescribed rare(2)"
   ]
  },
  {
   "cell_type": "code",
   "execution_count": 110,
   "metadata": {},
   "outputs": [],
   "source": [
    "# Total costs of prescriptions of practices with rare prescriptions\n",
    "costs_practices_l =[]\n",
    "for practice in practices_rare_l:\n",
    "    costs_practices_l.append(group_by_practice_scripts_cost.loc[practice])\n",
    "rare_cost_prop = np.array(practices_rare_costs)/np.array(costs_practices_l)"
   ]
  },
  {
   "cell_type": "code",
   "execution_count": 114,
   "metadata": {
    "scrolled": false
   },
   "outputs": [],
   "source": [
    "#Zscore Computation\n",
    "###################\n",
    "#To compute mu : is across all practice\n",
    "group_rare_prescrip = scripts.groupby('rare')['act_cost'].sum()\n",
    "mean_rare_cost_prop = group_rare_prescrip.loc[1]/(group_rare_prescrip.loc[0] + group_rare_prescrip.loc[1]) "
   ]
  },
  {
   "cell_type": "code",
   "execution_count": 115,
   "metadata": {},
   "outputs": [],
   "source": [
    "# relative rare proportional costs\n",
    "##################################\n",
    "practices_relative_rare_costs_prop = rare_cost_prop - mean_rare_cost_prop\n",
    "# variance\n",
    "##########\n",
    "standard_error_per_practice = np.sqrt(rare_cost_prop.var())\n",
    "#Zscores\n",
    "########\n",
    "rare_scores = list(np.array(practices_relative_rare_costs_prop)/np.array(standard_error_per_practice))"
   ]
  },
  {
   "cell_type": "code",
   "execution_count": 137,
   "metadata": {},
   "outputs": [
    {
     "data": {
      "text/plain": [
       "<matplotlib.axes._subplots.AxesSubplot at 0x7fc30c0e4610>"
      ]
     },
     "execution_count": 137,
     "metadata": {},
     "output_type": "execute_result"
    },
    {
     "data": {
      "image/png": "[encoded data removed]",
      "text/plain": [
       "<Figure size 432x288 with 1 Axes>"
      ]
     },
     "metadata": {
      "needs_background": "light"
     },
     "output_type": "display_data"
    }
   ],
   "source": [
    "# Rare scores is normally distributed. Valid to perform zscore transformation\n",
    "sns.distplot(rare_scores)"
   ]
  },
  {
   "cell_type": "code",
   "execution_count": 117,
   "metadata": {},
   "outputs": [
    {
     "data": {
      "text/html": [
       "<div>\n",
       "<style scoped>\n",
       "    .dataframe tbody tr th:only-of-type {\n",
       "        vertical-align: middle;\n",
       "    }\n",
       "\n",
       "    .dataframe tbody tr th {\n",
       "        vertical-align: top;\n",
       "    }\n",
       "\n",
       "    .dataframe thead th {\n",
       "        text-align: right;\n",
       "    }\n",
       "</style>\n",
       "<table border=\"1\" class=\"dataframe\">\n",
       "  <thead>\n",
       "    <tr style=\"text-align: right;\">\n",
       "      <th></th>\n",
       "      <th>practice</th>\n",
       "      <th>name</th>\n",
       "      <th>addr_1</th>\n",
       "      <th>addr_2</th>\n",
       "      <th>borough</th>\n",
       "      <th>village</th>\n",
       "      <th>post_code</th>\n",
       "    </tr>\n",
       "  </thead>\n",
       "  <tbody>\n",
       "    <tr>\n",
       "      <th>0</th>\n",
       "      <td>A81002</td>\n",
       "      <td>QUEENS PARK MEDICAL CENTRE</td>\n",
       "      <td>QUEENS PARK MEDICAL CTR</td>\n",
       "      <td>FARRER STREET</td>\n",
       "      <td>STOCKTON ON TEES</td>\n",
       "      <td>CLEVELAND</td>\n",
       "      <td>TS18 2AW</td>\n",
       "    </tr>\n",
       "    <tr>\n",
       "      <th>1</th>\n",
       "      <td>A81003</td>\n",
       "      <td>VICTORIA MEDICAL PRACTICE</td>\n",
       "      <td>THE HEALTH CENTRE</td>\n",
       "      <td>VICTORIA ROAD</td>\n",
       "      <td>HARTLEPOOL</td>\n",
       "      <td>CLEVELAND</td>\n",
       "      <td>TS26 8DB</td>\n",
       "    </tr>\n",
       "    <tr>\n",
       "      <th>2</th>\n",
       "      <td>A81004</td>\n",
       "      <td>WOODLANDS ROAD SURGERY</td>\n",
       "      <td>6 WOODLANDS ROAD</td>\n",
       "      <td>NaN</td>\n",
       "      <td>MIDDLESBROUGH</td>\n",
       "      <td>CLEVELAND</td>\n",
       "      <td>TS1 3BE</td>\n",
       "    </tr>\n",
       "    <tr>\n",
       "      <th>3</th>\n",
       "      <td>A81005</td>\n",
       "      <td>SPRINGWOOD SURGERY</td>\n",
       "      <td>SPRINGWOOD SURGERY</td>\n",
       "      <td>RECTORY LANE</td>\n",
       "      <td>GUISBOROUGH</td>\n",
       "      <td>NaN</td>\n",
       "      <td>TS14 7DJ</td>\n",
       "    </tr>\n",
       "    <tr>\n",
       "      <th>4</th>\n",
       "      <td>A81006</td>\n",
       "      <td>TENNANT STREET MEDICAL PRACTICE</td>\n",
       "      <td>TENNANT ST MED PRACT</td>\n",
       "      <td>FARRER STREET</td>\n",
       "      <td>STOCKTON ON TEES</td>\n",
       "      <td>CLEVELAND</td>\n",
       "      <td>TS18 2AT</td>\n",
       "    </tr>\n",
       "  </tbody>\n",
       "</table>\n",
       "</div>"
      ],
      "text/plain": [
       "  practice                             name                   addr_1  \\\n",
       "0   A81002       QUEENS PARK MEDICAL CENTRE  QUEENS PARK MEDICAL CTR   \n",
       "1   A81003        VICTORIA MEDICAL PRACTICE        THE HEALTH CENTRE   \n",
       "2   A81004           WOODLANDS ROAD SURGERY         6 WOODLANDS ROAD   \n",
       "3   A81005               SPRINGWOOD SURGERY       SPRINGWOOD SURGERY   \n",
       "4   A81006  TENNANT STREET MEDICAL PRACTICE     TENNANT ST MED PRACT   \n",
       "\n",
       "          addr_2           borough    village post_code  \n",
       "0  FARRER STREET  STOCKTON ON TEES  CLEVELAND  TS18 2AW  \n",
       "1  VICTORIA ROAD        HARTLEPOOL  CLEVELAND  TS26 8DB  \n",
       "2            NaN     MIDDLESBROUGH  CLEVELAND   TS1 3BE  \n",
       "3   RECTORY LANE       GUISBOROUGH        NaN  TS14 7DJ  \n",
       "4  FARRER STREET  STOCKTON ON TEES  CLEVELAND  TS18 2AT  "
      ]
     },
     "execution_count": 117,
     "metadata": {},
     "output_type": "execute_result"
    }
   ],
   "source": [
    "# Get practice names and postcodes from practices df, in Scripts, we have practice codes.\n",
    "practices.head()"
   ]
  },
  {
   "cell_type": "code",
   "execution_count": 199,
   "metadata": {},
   "outputs": [],
   "source": [
    "# Group practices by 'postal code' and by 'name' pick the first alphabetically postal code and pick the corresponding name\n",
    "# Get a list of postcodes per practice\n",
    "practices_group_by_pract = practices_sub.groupby('practice')['post_code'].apply(list) \n",
    "# Choosing the alphabetically first postal code\n",
    "practices_group_by_pract = practices_group_by_pract.apply(lambda x: min(x))\n",
    "# Turn into data frame for merger\n",
    "practices_group_by_pract = practices_group_by_pract.to_frame().reset_index() \n",
    "# practices rare postcode\n",
    "practices_rare_postcode_l = [practices_group_by_pract [practices_group_by_pract ['practice'] == practices_rare_l[i]]['post_code'].tolist() for i in range(len(practices_rare_l))]\n",
    "practices_rare_postcode_l = sum(practices_rare_postcode_l,[])\n",
    "#practices rare names\n",
    "grouped = practices.groupby(['practice','post_code'])['name'].apply(list)\n",
    "practices_rare_name_l = [grouped.loc[practices_rare_l[i]].loc[practices_rare_postcode_l[i]][0]  for i in range(len(practices_rare_l))]"
   ]
  },
  {
   "cell_type": "code",
   "execution_count": 201,
   "metadata": {},
   "outputs": [
    {
     "data": {
      "text/plain": [
       "[('GL50 4DP', 'GPSI SKIN SURGERY SERVICE', 7.029900469138048),\n",
       " ('WD18 7QR', 'GYNAECOLOGY COMMUNITY SERVICE', 7.029900469138048),\n",
       " ('TS10 4NW', 'URGENT CARE CENTRE', 6.626667984080822)]"
      ]
     },
     "execution_count": 201,
     "metadata": {},
     "output_type": "execute_result"
    }
   ],
   "source": [
    "rare_scripts = list(zip(practices_rare_postcode_l,practices_rare_name_l,rare_scores))\n",
    "rare_scripts.sort(key = lambda x: x[2],reverse=True)   # sort it by zscore\n",
    "rare_scripts = rare_scripts[:100]\n",
    "rare_scripts[:3]"
   ]
  },
  {
   "cell_type": "code",
   "execution_count": 205,
   "metadata": {},
   "outputs": [],
   "source": [
    "# Calculating p values ( statistically significant from mu: the average prescription rate of rare medicines across practices)\n",
    "# Assumption data (rare-rate is normally distributed)\n",
    "import scipy as sp\n",
    "df = pd.DataFrame({'Name':practices_rare_name_l, 'Postal_Code':practices_rare_postcode_l, 'zscores': rare_scores})\n",
    "significance = 0.05 # One tailed (greater than then mean rare prescription rate)\n",
    "df['rare_rate_pvalues'] = 1 - sp.stats.norm.cdf(df['zscores'])\n",
    "df['statistically_significant'] = (df.rare_rate_pvalues < significance).astype(int)"
   ]
  },
  {
   "cell_type": "code",
   "execution_count": 340,
   "metadata": {},
   "outputs": [
    {
     "data": {
      "text/html": [
       "<div>\n",
       "<style scoped>\n",
       "    .dataframe tbody tr th:only-of-type {\n",
       "        vertical-align: middle;\n",
       "    }\n",
       "\n",
       "    .dataframe tbody tr th {\n",
       "        vertical-align: top;\n",
       "    }\n",
       "\n",
       "    .dataframe thead th {\n",
       "        text-align: right;\n",
       "    }\n",
       "</style>\n",
       "<table border=\"1\" class=\"dataframe\">\n",
       "  <thead>\n",
       "    <tr style=\"text-align: right;\">\n",
       "      <th></th>\n",
       "      <th>Name</th>\n",
       "      <th>Postal_Code</th>\n",
       "      <th>zscores</th>\n",
       "      <th>rare_rate_pvalues</th>\n",
       "      <th>statistically_significant</th>\n",
       "    </tr>\n",
       "  </thead>\n",
       "  <tbody>\n",
       "    <tr>\n",
       "      <th>0</th>\n",
       "      <td>SPRINGWOOD SURGERY</td>\n",
       "      <td>TS14 7DJ</td>\n",
       "      <td>-0.105970</td>\n",
       "      <td>0.542197</td>\n",
       "      <td>0</td>\n",
       "    </tr>\n",
       "    <tr>\n",
       "      <th>1</th>\n",
       "      <td>BANKHOUSE SURGERY</td>\n",
       "      <td>TS24 7PW</td>\n",
       "      <td>-0.101495</td>\n",
       "      <td>0.540421</td>\n",
       "      <td>0</td>\n",
       "    </tr>\n",
       "    <tr>\n",
       "      <th>2</th>\n",
       "      <td>CHADWICK PRACTICE</td>\n",
       "      <td>TS24 7PW</td>\n",
       "      <td>-0.278676</td>\n",
       "      <td>0.609753</td>\n",
       "      <td>0</td>\n",
       "    </tr>\n",
       "    <tr>\n",
       "      <th>3</th>\n",
       "      <td>WESTBOURNE MEDICAL CENTRE</td>\n",
       "      <td>TS3 6AL</td>\n",
       "      <td>0.465854</td>\n",
       "      <td>0.320660</td>\n",
       "      <td>0</td>\n",
       "    </tr>\n",
       "    <tr>\n",
       "      <th>4</th>\n",
       "      <td>WOODBRIDGE PRACTICE</td>\n",
       "      <td>TS17 0EE</td>\n",
       "      <td>0.023269</td>\n",
       "      <td>0.490718</td>\n",
       "      <td>0</td>\n",
       "    </tr>\n",
       "  </tbody>\n",
       "</table>\n",
       "</div>"
      ],
      "text/plain": [
       "                        Name Postal_Code   zscores  rare_rate_pvalues  \\\n",
       "0         SPRINGWOOD SURGERY    TS14 7DJ -0.105970           0.542197   \n",
       "1          BANKHOUSE SURGERY    TS24 7PW -0.101495           0.540421   \n",
       "2          CHADWICK PRACTICE    TS24 7PW -0.278676           0.609753   \n",
       "3  WESTBOURNE MEDICAL CENTRE     TS3 6AL  0.465854           0.320660   \n",
       "4        WOODBRIDGE PRACTICE    TS17 0EE  0.023269           0.490718   \n",
       "\n",
       "   statistically_significant  \n",
       "0                          0  \n",
       "1                          0  \n",
       "2                          0  \n",
       "3                          0  \n",
       "4                          0  "
      ]
     },
     "execution_count": 340,
     "metadata": {},
     "output_type": "execute_result"
    }
   ],
   "source": [
    "df.head()"
   ]
  },
  {
   "cell_type": "code",
   "execution_count": null,
   "metadata": {},
   "outputs": [],
   "source": []
  },
  {
   "cell_type": "code",
   "execution_count": null,
   "metadata": {},
   "outputs": [],
   "source": []
  }
 ],
 "metadata": {
  "kernelspec": {
   "display_name": "Python 3",
   "language": "python",
   "name": "python3"
  },
  "language_info": {
   "codemirror_mode": {
    "name": "ipython",
    "version": 3
   },
   "file_extension": ".py",
   "mimetype": "text/x-python",
   "name": "python",
   "nbconvert_exporter": "python",
   "pygments_lexer": "ipython3",
   "version": "3.7.4"
  }
 },
 "nbformat": 4,
 "nbformat_minor": 4
}
